{
  "nbformat": 4,
  "nbformat_minor": 0,
  "metadata": {
    "kernelspec": {
      "display_name": "Python 3",
      "language": "python",
      "name": "python3"
    },
    "language_info": {
      "codemirror_mode": {
        "name": "ipython",
        "version": 3
      },
      "file_extension": ".py",
      "mimetype": "text/x-python",
      "name": "python",
      "nbconvert_exporter": "python",
      "pygments_lexer": "ipython3",
      "version": "3.8.10"
    },
    "colab": {
      "name": "02_homework_notebook.ipynb",
      "provenance": [],
      "toc_visible": true,
      "include_colab_link": true
    }
  },
  "cells": [
    {
      "cell_type": "markdown",
      "metadata": {
        "id": "view-in-github",
        "colab_type": "text"
      },
      "source": [
        "<a href=\"https://colab.research.google.com/github/bsekiewicz/course-deepdrive-image-classification/blob/main/homework/02-module/02_homework_notebook.ipynb\" target=\"_parent\"><img src=\"https://colab.research.google.com/assets/colab-badge.svg\" alt=\"Open In Colab\"/></a>"
      ]
    },
    {
      "cell_type": "code",
      "metadata": {
        "id": "PekHca_iFbZE"
      },
      "source": [
        "import urllib.request\n",
        "import numpy as np\n",
        "import matplotlib.pyplot as plt\n",
        "import os"
      ],
      "execution_count": 3,
      "outputs": []
    },
    {
      "cell_type": "markdown",
      "metadata": {
        "id": "ZkqsLjz1FbZF"
      },
      "source": [
        "# Wybierz 10 klas\n",
        "\n",
        "Poniżej przygotuj listę 10 klas z:\n",
        "https://quickdraw.withgoogle.com/data\n",
        "\n",
        "> nazwy takie jak nazwy obiektów (wyświetlane po najechaniu lub kliknięciu)"
      ]
    },
    {
      "cell_type": "code",
      "metadata": {
        "id": "ACG_jL4OFbZG"
      },
      "source": [
        "class_names=[\n",
        "  'bread',\n",
        "  'cake',\n",
        "  'donut',\n",
        "  'onion',\n",
        "  'pizza',\n",
        "  'steak',\n",
        "  'grapes',\n",
        "  'ice cream',\n",
        "  'carrot',\n",
        "  'banana',\n",
        "]"
      ],
      "execution_count": 4,
      "outputs": []
    },
    {
      "cell_type": "markdown",
      "metadata": {
        "id": "rMBORBcwFbZH"
      },
      "source": [
        "## Test"
      ]
    },
    {
      "cell_type": "code",
      "metadata": {
        "id": "xQF73ihQFbZH"
      },
      "source": [
        "assert len(class_names)==10, 'Nazw powinno być dokładnie 10'\n",
        "for i in range(len(class_names)):\n",
        "    assert type(class_names[i])==str, 'Każda z nazw powinna być typu str'\n",
        "    assert '/' not in class_names[i], 'Same nazwy klas, ze spacjami, bez ukośników'"
      ],
      "execution_count": 5,
      "outputs": []
    },
    {
      "cell_type": "markdown",
      "metadata": {
        "id": "0KrS5eFbFbZH"
      },
      "source": [
        "# Wczytanie danych\n",
        "Pobieranie plików z obrazami w formaci npy (numpy)"
      ]
    },
    {
      "cell_type": "code",
      "metadata": {
        "colab": {
          "base_uri": "https://localhost:8080/"
        },
        "id": "8ZQmGeMcFbZI",
        "outputId": "326ff09b-0fa8-4ee6-96d0-08c027538bcd"
      },
      "source": [
        "for name in class_names:\n",
        "    url = 'https://storage.googleapis.com/quickdraw_dataset/full/numpy_bitmap/%s.npy'%name\n",
        "    file_name = url.split('/')[-1].split('?')[0]\n",
        "\n",
        "    url = url.replace(' ','%20')\n",
        "    \n",
        "    if not os.path.isfile(file_name):\n",
        "        print(url, '==>', file_name)\n",
        "        urllib.request.urlretrieve(url, file_name)"
      ],
      "execution_count": 6,
      "outputs": [
        {
          "output_type": "stream",
          "text": [
            "https://storage.googleapis.com/quickdraw_dataset/full/numpy_bitmap/bread.npy ==> bread.npy\n",
            "https://storage.googleapis.com/quickdraw_dataset/full/numpy_bitmap/cake.npy ==> cake.npy\n",
            "https://storage.googleapis.com/quickdraw_dataset/full/numpy_bitmap/donut.npy ==> donut.npy\n",
            "https://storage.googleapis.com/quickdraw_dataset/full/numpy_bitmap/onion.npy ==> onion.npy\n",
            "https://storage.googleapis.com/quickdraw_dataset/full/numpy_bitmap/pizza.npy ==> pizza.npy\n",
            "https://storage.googleapis.com/quickdraw_dataset/full/numpy_bitmap/steak.npy ==> steak.npy\n",
            "https://storage.googleapis.com/quickdraw_dataset/full/numpy_bitmap/grapes.npy ==> grapes.npy\n",
            "https://storage.googleapis.com/quickdraw_dataset/full/numpy_bitmap/ice%20cream.npy ==> ice cream.npy\n",
            "https://storage.googleapis.com/quickdraw_dataset/full/numpy_bitmap/carrot.npy ==> carrot.npy\n",
            "https://storage.googleapis.com/quickdraw_dataset/full/numpy_bitmap/banana.npy ==> banana.npy\n"
          ],
          "name": "stdout"
        }
      ]
    },
    {
      "cell_type": "markdown",
      "metadata": {
        "id": "yh8JxtSuFbZJ"
      },
      "source": [
        "## Wczytywanie z plików .npy\n",
        "Dane znajdziesz w tablicy data"
      ]
    },
    {
      "cell_type": "code",
      "metadata": {
        "colab": {
          "base_uri": "https://localhost:8080/"
        },
        "id": "Xd0hP3DlFbZK",
        "outputId": "bb4f5b01-8d0f-4ea6-e839-87788e3a57a2"
      },
      "source": [
        "data = []\n",
        "for name in class_names:\n",
        "    file_name = name+'.npy'\n",
        "    data.append(np.load(file_name, fix_imports=True, allow_pickle=True))\n",
        "    print('%-15s'%name,type(data[-1]))"
      ],
      "execution_count": 7,
      "outputs": [
        {
          "output_type": "stream",
          "text": [
            "bread           <class 'numpy.ndarray'>\n",
            "cake            <class 'numpy.ndarray'>\n",
            "donut           <class 'numpy.ndarray'>\n",
            "onion           <class 'numpy.ndarray'>\n",
            "pizza           <class 'numpy.ndarray'>\n",
            "steak           <class 'numpy.ndarray'>\n",
            "grapes          <class 'numpy.ndarray'>\n",
            "ice cream       <class 'numpy.ndarray'>\n",
            "carrot          <class 'numpy.ndarray'>\n",
            "banana          <class 'numpy.ndarray'>\n"
          ],
          "name": "stdout"
        }
      ]
    },
    {
      "cell_type": "markdown",
      "metadata": {
        "id": "4weWXHEvFbZL"
      },
      "source": [
        "# Liczebności i wymiary zdjęć\n",
        "Wypisz nazwę i shape dla każdej klasy"
      ]
    },
    {
      "cell_type": "code",
      "metadata": {
        "colab": {
          "base_uri": "https://localhost:8080/"
        },
        "id": "IVVS1f8ZFbZL",
        "outputId": "50fc9483-5f74-4cb5-dc7a-d405eb8cfebe"
      },
      "source": [
        "data_name_shape = {}\n",
        "for name in class_names:\n",
        "    file_name = name+'.npy'\n",
        "    data_name_shape[name] = np.load(file_name, fix_imports=True, allow_pickle=True).shape\n",
        "    print('%-15s'%name, data_name_shape[name])"
      ],
      "execution_count": 8,
      "outputs": [
        {
          "output_type": "stream",
          "text": [
            "bread           (120570, 784)\n",
            "cake            (124905, 784)\n",
            "donut           (140751, 784)\n",
            "onion           (132297, 784)\n",
            "pizza           (130371, 784)\n",
            "steak           (122042, 784)\n",
            "grapes          (155305, 784)\n",
            "ice cream       (123133, 784)\n",
            "carrot          (132459, 784)\n",
            "banana          (307936, 784)\n"
          ],
          "name": "stdout"
        }
      ]
    },
    {
      "cell_type": "markdown",
      "metadata": {
        "id": "g7Bdam23FbZL"
      },
      "source": [
        "Poniżej zwizualizuj liczbę zdjęć per klasę:"
      ]
    },
    {
      "cell_type": "code",
      "metadata": {
        "colab": {
          "base_uri": "https://localhost:8080/",
          "height": 320
        },
        "id": "KRKYxMi0FbZM",
        "outputId": "88422d4d-6dea-47f0-8196-5c6e7a9cea46"
      },
      "source": [
        "height = data_name_shape.keys()\n",
        "bars = [x[0] for x in data_name_shape.values()]\n",
        "\n",
        "plt.bar(height, bars)\n",
        "plt.title('Quick Draw - 10 class subset')\n",
        "plt.xticks(rotation=90)\n",
        "plt.ylabel('Images')\n",
        "\n",
        "plt.show()"
      ],
      "execution_count": 9,
      "outputs": [
        {
          "output_type": "display_data",
          "data": {
            "image/png": "[encoded data removed]",
            "text/plain": [
              "<Figure size 432x288 with 1 Axes>"
            ]
          },
          "metadata": {
            "needs_background": "light"
          }
        }
      ]
    },
    {
      "cell_type": "markdown",
      "metadata": {
        "id": "gpTiPZXzFbZM"
      },
      "source": [
        "# Wizualizacja danych\n",
        "Dane są w macierzach dwuwyamirowych,\n",
        "aby je poprawnie wyświetlić jako obraz,\n",
        "należy je przekonwertować do 3 wymiarów:\n",
        "\n",
        "- numer zdjęcia\n",
        "- wysokość\n",
        "- szerokość\n",
        "\n",
        "Tu pomoże `reshape` z numpy.\n",
        "\n",
        "## Konwersja do (-1, 28, 28)"
      ]
    },
    {
      "cell_type": "code",
      "metadata": {
        "id": "-pgXhFwgFbZN"
      },
      "source": [
        "data_reshaped = list(map(lambda x: x.reshape(-1,28,28), data))"
      ],
      "execution_count": 10,
      "outputs": []
    },
    {
      "cell_type": "code",
      "metadata": {
        "id": "OyMYQtFiGCyN",
        "outputId": "aaf50c8d-61c2-4c03-c882-45c86a1b3081",
        "colab": {
          "base_uri": "https://localhost:8080/"
        }
      },
      "source": [
        "# test\n",
        "data_reshaped[0].shape, data_reshaped[0][0].shape"
      ],
      "execution_count": 12,
      "outputs": [
        {
          "output_type": "execute_result",
          "data": {
            "text/plain": [
              "((120570, 28, 28), (28, 28))"
            ]
          },
          "metadata": {},
          "execution_count": 12
        }
      ]
    },
    {
      "cell_type": "markdown",
      "metadata": {
        "id": "EUDrEfWMFbZN"
      },
      "source": [
        "Wyświetl po jednym przykładzie z każdej klasy.\n",
        "\n",
        "Możesz skorzystać z `plt.subplot`"
      ]
    },
    {
      "cell_type": "code",
      "metadata": {
        "id": "pN75FrCiI_Q_",
        "outputId": "f08ade32-7e05-4500-b50b-18e6c0f73d73",
        "colab": {
          "base_uri": "https://localhost:8080/",
          "height": 453
        }
      },
      "source": [
        "plt.figure(figsize=(20,20))\n",
        "for i in range(len(data_reshaped)):\n",
        "   plt.subplot(5, 5, i+1)\n",
        "   plt.title(class_names[i])\n",
        "   plt.imshow(data_reshaped[i][8], cmap='gray')\n",
        "   plt.axis('off')"
      ],
      "execution_count": 47,
      "outputs": [
        {
          "output_type": "display_data",
          "data": {
            "image/png": "[encoded data removed]",
            "text/plain": [
              "<Figure size 1440x1440 with 10 Axes>"
            ]
          },
          "metadata": {
            "needs_background": "light"
          }
        }
      ]
    },
    {
      "cell_type": "markdown",
      "metadata": {
        "id": "r-ROUgdPFbZO"
      },
      "source": [
        "## Obraz średni\n",
        "Jak podobne do siebie są obrazy z poszczególnych klas?\n",
        "\n",
        "Oblicz i wyświetl średni obraz dla wszystkich klas.\n",
        "\n",
        "Możesz skorzystać z `np.mean`"
      ]
    },
    {
      "cell_type": "code",
      "metadata": {
        "id": "gjaOy7cFKYiP",
        "outputId": "c2734b91-fa92-4704-b94b-55a7a0282819",
        "colab": {
          "base_uri": "https://localhost:8080/",
          "height": 453
        }
      },
      "source": [
        "plt.figure(figsize=(20,20))\n",
        "for i in range(len(data_reshaped)):\n",
        "   plt.subplot(5, 5, i+1)\n",
        "   plt.title(class_names[i])\n",
        "   plt.imshow(data_reshaped[i].mean(axis=0), cmap='gray')\n",
        "   plt.axis('off')"
      ],
      "execution_count": 55,
      "outputs": [
        {
          "output_type": "display_data",
          "data": {
            "image/png": "[encoded data removed]",
            "text/plain": [
              "<Figure size 1440x1440 with 10 Axes>"
            ]
          },
          "metadata": {
            "needs_background": "light"
          }
        }
      ]
    }
  ]
}